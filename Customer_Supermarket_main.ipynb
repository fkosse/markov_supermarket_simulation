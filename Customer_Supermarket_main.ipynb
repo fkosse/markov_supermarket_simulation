{
 "cells": [
  {
   "cell_type": "code",
   "execution_count": 200,
   "id": "03dec81a-eab7-4e0b-ad89-487990e29674",
   "metadata": {},
   "outputs": [],
   "source": [
    "import random \n",
    "import pandas as pd\n",
    "import numpy as np"
   ]
  },
  {
   "cell_type": "code",
   "execution_count": 201,
   "id": "e80c79fe-89f0-4671-aec4-b211504d987c",
   "metadata": {},
   "outputs": [
    {
     "data": {
      "text/html": [
       "<div>\n",
       "<style scoped>\n",
       "    .dataframe tbody tr th:only-of-type {\n",
       "        vertical-align: middle;\n",
       "    }\n",
       "\n",
       "    .dataframe tbody tr th {\n",
       "        vertical-align: top;\n",
       "    }\n",
       "\n",
       "    .dataframe thead th {\n",
       "        text-align: right;\n",
       "    }\n",
       "</style>\n",
       "<table border=\"1\" class=\"dataframe\">\n",
       "  <thead>\n",
       "    <tr style=\"text-align: right;\">\n",
       "      <th></th>\n",
       "      <th>checkout</th>\n",
       "      <th>dairy</th>\n",
       "      <th>drinks</th>\n",
       "      <th>fruit</th>\n",
       "      <th>spices</th>\n",
       "    </tr>\n",
       "    <tr>\n",
       "      <th>before</th>\n",
       "      <th></th>\n",
       "      <th></th>\n",
       "      <th></th>\n",
       "      <th></th>\n",
       "      <th></th>\n",
       "    </tr>\n",
       "  </thead>\n",
       "  <tbody>\n",
       "    <tr>\n",
       "      <th>dairy</th>\n",
       "      <td>0.102617</td>\n",
       "      <td>0.738910</td>\n",
       "      <td>0.058088</td>\n",
       "      <td>0.049439</td>\n",
       "      <td>0.050946</td>\n",
       "    </tr>\n",
       "    <tr>\n",
       "      <th>drinks</th>\n",
       "      <td>0.215290</td>\n",
       "      <td>0.010877</td>\n",
       "      <td>0.599282</td>\n",
       "      <td>0.087737</td>\n",
       "      <td>0.086814</td>\n",
       "    </tr>\n",
       "    <tr>\n",
       "      <th>entrance</th>\n",
       "      <td>0.000000</td>\n",
       "      <td>0.287576</td>\n",
       "      <td>0.153526</td>\n",
       "      <td>0.377435</td>\n",
       "      <td>0.181464</td>\n",
       "    </tr>\n",
       "    <tr>\n",
       "      <th>fruit</th>\n",
       "      <td>0.200454</td>\n",
       "      <td>0.095376</td>\n",
       "      <td>0.054534</td>\n",
       "      <td>0.599249</td>\n",
       "      <td>0.050387</td>\n",
       "    </tr>\n",
       "    <tr>\n",
       "      <th>spices</th>\n",
       "      <td>0.149494</td>\n",
       "      <td>0.191688</td>\n",
       "      <td>0.161820</td>\n",
       "      <td>0.090234</td>\n",
       "      <td>0.406764</td>\n",
       "    </tr>\n",
       "    <tr>\n",
       "      <th>checkout</th>\n",
       "      <td>1.000000</td>\n",
       "      <td>0.000000</td>\n",
       "      <td>0.000000</td>\n",
       "      <td>0.000000</td>\n",
       "      <td>0.000000</td>\n",
       "    </tr>\n",
       "  </tbody>\n",
       "</table>\n",
       "</div>"
      ],
      "text/plain": [
       "          checkout     dairy    drinks     fruit    spices\n",
       "before                                                    \n",
       "dairy     0.102617  0.738910  0.058088  0.049439  0.050946\n",
       "drinks    0.215290  0.010877  0.599282  0.087737  0.086814\n",
       "entrance  0.000000  0.287576  0.153526  0.377435  0.181464\n",
       "fruit     0.200454  0.095376  0.054534  0.599249  0.050387\n",
       "spices    0.149494  0.191688  0.161820  0.090234  0.406764\n",
       "checkout  1.000000  0.000000  0.000000  0.000000  0.000000"
      ]
     },
     "execution_count": 201,
     "metadata": {},
     "output_type": "execute_result"
    }
   ],
   "source": [
    "mx=pd.read_csv('mx.csv')\n",
    "mx=mx.set_index('before')\n",
    "mx"
   ]
  },
  {
   "cell_type": "code",
   "execution_count": 336,
   "id": "692d7ca3-a00b-4e24-83a4-3505e04047b6",
   "metadata": {},
   "outputs": [
    {
     "data": {
      "text/plain": [
       "array(['checkout', 'dairy', 'drinks', 'fruit', 'spices'], dtype=object)"
      ]
     },
     "execution_count": 336,
     "metadata": {},
     "output_type": "execute_result"
    }
   ],
   "source": [
    "# states\\locations\n",
    "mx.columns.values"
   ]
  },
  {
   "cell_type": "code",
   "execution_count": 544,
   "id": "b625cc78-2c4f-4a86-9776-d31c6ebcc81a",
   "metadata": {},
   "outputs": [
    {
     "data": {
      "text/plain": [
       "0.0494392054014842"
      ]
     },
     "execution_count": 544,
     "metadata": {},
     "output_type": "execute_result"
    }
   ],
   "source": [
    "# What are the transition probabilities if the current state is fruit\n",
    "mx['fruit'][0]"
   ]
  },
  {
   "cell_type": "code",
   "execution_count": 602,
   "id": "4c2dd928-f329-4d07-860d-19e582f62fb9",
   "metadata": {},
   "outputs": [],
   "source": [
    "class Customer:\n",
    "    \"\"\"\n",
    "    a single customer that moves through the supermarket in a MCMC simulation \"\"\"\n",
    "    \n",
    "    def __init__(self, id):\n",
    "        self.id=id\n",
    "        self.location='entrance'\n",
    "        self.transition_probs=mx\n",
    "\n",
    "    def __repr__(self):\n",
    "        return f'Customer {self.id} is in {self.location}'\n",
    "    \n",
    "    def next_state(self):\n",
    "        ''' Propagates the customer to the next state. Returns nothing.   '''\n",
    "        self.location = np.random.choice(self.transition_probs.columns.values, p=self.transition_probs.loc[self.location])\n",
    "    \n",
    "    def is_active(self):\n",
    "        \"\"\" Returns True if the customer has not reached the checkout yet. \"\"\"\n",
    "        if self.location=='checkout':\n",
    "            return False\n",
    "        else:\n",
    "            return True"
   ]
  },
  {
   "cell_type": "code",
   "execution_count": 603,
   "id": "6f9e9b5f-f413-443a-b9f8-a870f161dfb8",
   "metadata": {
    "tags": []
   },
   "outputs": [],
   "source": [
    "class Supermarket:\n",
    "    \"\"\"manages multiple Customer instances that are currently in the market.    \"\"\"\n",
    "    \n",
    "    def __init__(self):\n",
    "        # a list of Customer objects\n",
    "        self.customers = []\n",
    "        self.minutes = 0\n",
    "        self.last_id = 0\n",
    "        \n",
    "    def __repr__(self):\n",
    "        return ''\n",
    "    \n",
    "    def get_time(self):\n",
    "        \"\"\"current time in HH:MM format,\n",
    "        \"\"\"\n",
    "        return None\n",
    "    def print_customers(self):\n",
    "        \"\"\"print all customers with the current time and id in CSV format.\n",
    "        \"\"\"\n",
    "        return None\n",
    "\n",
    "    def next_minute(self): #control our customers\n",
    "        \"\"\"propagates all customers to the next state.\"\"\"\n",
    "        for shopper in self.customers:\n",
    "            shopper.next_state()\n",
    "        \n",
    "    def add_new_customers(self, customer): #create a customer\n",
    "        \"\"\"randomly creates new customers.        \"\"\"\n",
    "\n",
    "        self.customers.append(customer) #this function in my supermarket object literally creates other objects\n",
    "    \n",
    "    def remove_exitsting_customers(self):\n",
    "        \"\"\"removes every customer that is not active any more.\n",
    "        \"\"\"\n",
    "        return None\n",
    "    \n",
    "\n",
    "            \n"
   ]
  },
  {
   "cell_type": "code",
   "execution_count": null,
   "id": "aeec91f8-4006-49a8-9f4c-8d557ed756b3",
   "metadata": {},
   "outputs": [],
   "source": []
  },
  {
   "cell_type": "code",
   "execution_count": 609,
   "id": "6e37a2d6-ebe3-4394-9668-c3701b92306e",
   "metadata": {},
   "outputs": [],
   "source": [
    "s = Supermarket()\n",
    "s.add_new_customers(Customer('Narges'))"
   ]
  },
  {
   "cell_type": "code",
   "execution_count": 610,
   "id": "27e0ff74-463b-4730-9d3d-7174db45e42f",
   "metadata": {},
   "outputs": [],
   "source": [
    "s.add_new_customers(Customer('Felix'))"
   ]
  },
  {
   "cell_type": "code",
   "execution_count": 611,
   "id": "bba19ce7-5fab-464f-9047-7925367c214c",
   "metadata": {},
   "outputs": [
    {
     "data": {
      "text/plain": [
       "[Customer Narges is in entrance, Customer Felix is in entrance]"
      ]
     },
     "execution_count": 611,
     "metadata": {},
     "output_type": "execute_result"
    }
   ],
   "source": [
    "#all customers start at entrance\n",
    "s.customers"
   ]
  },
  {
   "cell_type": "code",
   "execution_count": 622,
   "id": "40fb46a6-294e-4298-91b1-f4eedffd263c",
   "metadata": {},
   "outputs": [],
   "source": [
    "#run this multiple times\n",
    "s.next_minute()"
   ]
  },
  {
   "cell_type": "code",
   "execution_count": 621,
   "id": "181d6b0f-3f32-4323-bf87-72d78e53fcb4",
   "metadata": {},
   "outputs": [
    {
     "data": {
      "text/plain": [
       "[Customer Narges is in checkout, Customer Felix is in drinks]"
      ]
     },
     "execution_count": 621,
     "metadata": {},
     "output_type": "execute_result"
    }
   ],
   "source": [
    "s.customers"
   ]
  },
  {
   "cell_type": "code",
   "execution_count": null,
   "id": "fd69c13d-6f15-4441-8e6c-32012e2ac76a",
   "metadata": {},
   "outputs": [],
   "source": []
  },
  {
   "cell_type": "code",
   "execution_count": null,
   "id": "b048338f-4bd0-4f13-af6a-7574715f9d95",
   "metadata": {},
   "outputs": [],
   "source": []
  },
  {
   "cell_type": "code",
   "execution_count": null,
   "id": "10ad5c78-306f-486c-8233-e5032e6ec4a2",
   "metadata": {},
   "outputs": [],
   "source": []
  },
  {
   "cell_type": "code",
   "execution_count": 626,
   "id": "14e34e84-4ac4-4ddc-8893-929828ec2a8f",
   "metadata": {},
   "outputs": [],
   "source": [
    "# Fake name generator\n",
    "from faker import Faker\n",
    "name = Faker().name()"
   ]
  },
  {
   "cell_type": "code",
   "execution_count": 627,
   "id": "8d1d9b57-6c2b-4408-88a6-319b4a4c5b20",
   "metadata": {},
   "outputs": [
    {
     "data": {
      "text/plain": [
       "'Kristy Myers MD'"
      ]
     },
     "execution_count": 627,
     "metadata": {},
     "output_type": "execute_result"
    }
   ],
   "source": [
    "name"
   ]
  },
  {
   "cell_type": "code",
   "execution_count": null,
   "id": "c67365ca-b953-4189-bcd8-82f64f46ba62",
   "metadata": {},
   "outputs": [],
   "source": []
  },
  {
   "cell_type": "code",
   "execution_count": null,
   "id": "e19833c2-1249-4ad4-a0c6-941aff950344",
   "metadata": {},
   "outputs": [],
   "source": []
  },
  {
   "cell_type": "code",
   "execution_count": null,
   "id": "bdae0ddb-a5b0-4ac7-bb22-6fcb9c454275",
   "metadata": {},
   "outputs": [],
   "source": []
  },
  {
   "cell_type": "code",
   "execution_count": null,
   "id": "af1d11f7-8333-497e-bc81-8f743ca9af6f",
   "metadata": {},
   "outputs": [],
   "source": []
  }
 ],
 "metadata": {
  "kernelspec": {
   "display_name": "Python 3",
   "language": "python",
   "name": "python3"
  },
  "language_info": {
   "codemirror_mode": {
    "name": "ipython",
    "version": 3
   },
   "file_extension": ".py",
   "mimetype": "text/x-python",
   "name": "python",
   "nbconvert_exporter": "python",
   "pygments_lexer": "ipython3",
   "version": "3.8.8"
  }
 },
 "nbformat": 4,
 "nbformat_minor": 5
}
