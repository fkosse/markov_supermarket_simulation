{
 "cells": [
  {
   "cell_type": "code",
   "execution_count": 200,
   "id": "03dec81a-eab7-4e0b-ad89-487990e29674",
   "metadata": {},
   "outputs": [],
   "source": [
    "import random \n",
    "import pandas as pd\n",
    "import numpy as np"
   ]
  },
  {
   "cell_type": "code",
   "execution_count": 201,
   "id": "e80c79fe-89f0-4671-aec4-b211504d987c",
   "metadata": {},
   "outputs": [
    {
     "data": {
      "text/html": [
       "<div>\n",
       "<style scoped>\n",
       "    .dataframe tbody tr th:only-of-type {\n",
       "        vertical-align: middle;\n",
       "    }\n",
       "\n",
       "    .dataframe tbody tr th {\n",
       "        vertical-align: top;\n",
       "    }\n",
       "\n",
       "    .dataframe thead th {\n",
       "        text-align: right;\n",
       "    }\n",
       "</style>\n",
       "<table border=\"1\" class=\"dataframe\">\n",
       "  <thead>\n",
       "    <tr style=\"text-align: right;\">\n",
       "      <th></th>\n",
       "      <th>checkout</th>\n",
       "      <th>dairy</th>\n",
       "      <th>drinks</th>\n",
       "      <th>fruit</th>\n",
       "      <th>spices</th>\n",
       "    </tr>\n",
       "    <tr>\n",
       "      <th>before</th>\n",
       "      <th></th>\n",
       "      <th></th>\n",
       "      <th></th>\n",
       "      <th></th>\n",
       "      <th></th>\n",
       "    </tr>\n",
       "  </thead>\n",
       "  <tbody>\n",
       "    <tr>\n",
       "      <th>dairy</th>\n",
       "      <td>0.102617</td>\n",
       "      <td>0.738910</td>\n",
       "      <td>0.058088</td>\n",
       "      <td>0.049439</td>\n",
       "      <td>0.050946</td>\n",
       "    </tr>\n",
       "    <tr>\n",
       "      <th>drinks</th>\n",
       "      <td>0.215290</td>\n",
       "      <td>0.010877</td>\n",
       "      <td>0.599282</td>\n",
       "      <td>0.087737</td>\n",
       "      <td>0.086814</td>\n",
       "    </tr>\n",
       "    <tr>\n",
       "      <th>entrance</th>\n",
       "      <td>0.000000</td>\n",
       "      <td>0.287576</td>\n",
       "      <td>0.153526</td>\n",
       "      <td>0.377435</td>\n",
       "      <td>0.181464</td>\n",
       "    </tr>\n",
       "    <tr>\n",
       "      <th>fruit</th>\n",
       "      <td>0.200454</td>\n",
       "      <td>0.095376</td>\n",
       "      <td>0.054534</td>\n",
       "      <td>0.599249</td>\n",
       "      <td>0.050387</td>\n",
       "    </tr>\n",
       "    <tr>\n",
       "      <th>spices</th>\n",
       "      <td>0.149494</td>\n",
       "      <td>0.191688</td>\n",
       "      <td>0.161820</td>\n",
       "      <td>0.090234</td>\n",
       "      <td>0.406764</td>\n",
       "    </tr>\n",
       "    <tr>\n",
       "      <th>checkout</th>\n",
       "      <td>1.000000</td>\n",
       "      <td>0.000000</td>\n",
       "      <td>0.000000</td>\n",
       "      <td>0.000000</td>\n",
       "      <td>0.000000</td>\n",
       "    </tr>\n",
       "  </tbody>\n",
       "</table>\n",
       "</div>"
      ],
      "text/plain": [
       "          checkout     dairy    drinks     fruit    spices\n",
       "before                                                    \n",
       "dairy     0.102617  0.738910  0.058088  0.049439  0.050946\n",
       "drinks    0.215290  0.010877  0.599282  0.087737  0.086814\n",
       "entrance  0.000000  0.287576  0.153526  0.377435  0.181464\n",
       "fruit     0.200454  0.095376  0.054534  0.599249  0.050387\n",
       "spices    0.149494  0.191688  0.161820  0.090234  0.406764\n",
       "checkout  1.000000  0.000000  0.000000  0.000000  0.000000"
      ]
     },
     "execution_count": 201,
     "metadata": {},
     "output_type": "execute_result"
    }
   ],
   "source": [
    "mx=pd.read_csv('mx.csv')\n",
    "mx=mx.set_index('before')\n",
    "mx"
   ]
  },
  {
   "cell_type": "code",
   "execution_count": 336,
   "id": "692d7ca3-a00b-4e24-83a4-3505e04047b6",
   "metadata": {},
   "outputs": [
    {
     "data": {
      "text/plain": [
       "array(['checkout', 'dairy', 'drinks', 'fruit', 'spices'], dtype=object)"
      ]
     },
     "execution_count": 336,
     "metadata": {},
     "output_type": "execute_result"
    }
   ],
   "source": [
    "# states\\locations\n",
    "mx.columns.values"
   ]
  },
  {
   "cell_type": "code",
   "execution_count": 281,
   "id": "b625cc78-2c4f-4a86-9776-d31c6ebcc81a",
   "metadata": {},
   "outputs": [
    {
     "data": {
      "text/plain": [
       "checkout    0.200454\n",
       "dairy       0.095376\n",
       "drinks      0.054534\n",
       "fruit       0.599249\n",
       "spices      0.050387\n",
       "Name: fruit, dtype: float64"
      ]
     },
     "execution_count": 281,
     "metadata": {},
     "output_type": "execute_result"
    }
   ],
   "source": [
    "# What are the transition probabilities if the current state is fruit\n",
    "mx.loc['fruit']"
   ]
  },
  {
   "cell_type": "code",
   "execution_count": 203,
   "id": "4c2dd928-f329-4d07-860d-19e582f62fb9",
   "metadata": {},
   "outputs": [],
   "source": [
    "class Customer:\n",
    "    \"\"\"\n",
    "    a single customer that moves through the supermarket in a MCMC simulation \"\"\"\n",
    "    \n",
    "    def __init__(self, customer_no, location, transition_probs):\n",
    "        self.customer_no=customer_no\n",
    "        self.location=location\n",
    "        self.transition_probs=transition_probs\n",
    "\n",
    "    def __repr__(self):\n",
    "        return f'Customer {self.customer_no} is in {self.location}'\n",
    "    \n",
    "    def next_state(self):\n",
    "        ''' Propagates the customer to the next state. Returns nothing.   '''\n",
    "        self.location = np.random.choice(self.transition_probs.columns.values, p=self.transition_probs.loc[self.location])\n",
    "    \n",
    "    def is_active(self):\n",
    "        \"\"\" Returns True if the customer has not reached the checkout yet. \"\"\"\n",
    "        if self.location=='checkout':\n",
    "            return False\n",
    "        else:\n",
    "            return True"
   ]
  },
  {
   "cell_type": "code",
   "execution_count": null,
   "id": "662243cb-35eb-431f-972e-9ce0d1145599",
   "metadata": {},
   "outputs": [],
   "source": [
    "class Supermarket:\n",
    "    \n",
    "    def __init__(self):\n",
    "        self.time = 0\n",
    "        self.customers = []\n",
    "\n",
    "    def add_customer(self, name, location, t_probs): #create a customer\n",
    "        name = Faker().name()\n",
    "        location='entrance'\n",
    "        self.customers.append(Customer(name, location, t_probs)) #this function in my supermarket object literally creates other objects\n",
    "        \n",
    "    def move_customers(self): #control our customers\n",
    "        for shopper in self.customers:\n",
    "            shopper.next_state()"
   ]
  },
  {
   "cell_type": "code",
   "execution_count": 341,
   "id": "79eb60d8-b42d-478a-b680-7d71e057231c",
   "metadata": {},
   "outputs": [],
   "source": [
    "c5 = Customer('Narges', 'fruit', mx)"
   ]
  },
  {
   "cell_type": "code",
   "execution_count": 342,
   "id": "cf062a93-0cf2-42c2-a534-8b1ae28f4f69",
   "metadata": {},
   "outputs": [
    {
     "data": {
      "text/plain": [
       "Customer Narges is in fruit"
      ]
     },
     "execution_count": 342,
     "metadata": {},
     "output_type": "execute_result"
    }
   ],
   "source": [
    "c5"
   ]
  },
  {
   "cell_type": "code",
   "execution_count": 351,
   "id": "1beb4de4-e228-4781-b1ff-af89b1e73f66",
   "metadata": {},
   "outputs": [],
   "source": [
    "#run this couple times to see the outcome change\n",
    "c5.next_state()"
   ]
  },
  {
   "cell_type": "code",
   "execution_count": 352,
   "id": "230fd364-b8a0-4669-91f6-ee40061b5ff3",
   "metadata": {},
   "outputs": [
    {
     "data": {
      "text/plain": [
       "Customer Narges is in checkout"
      ]
     },
     "execution_count": 352,
     "metadata": {},
     "output_type": "execute_result"
    }
   ],
   "source": [
    "c5"
   ]
  },
  {
   "cell_type": "code",
   "execution_count": null,
   "id": "0383c36b-4ea7-4b4c-9d1d-cacb07cd03d4",
   "metadata": {},
   "outputs": [],
   "source": []
  },
  {
   "cell_type": "code",
   "execution_count": null,
   "id": "27adb767-d151-43fa-ba1b-c51fc06ecaf0",
   "metadata": {},
   "outputs": [],
   "source": []
  },
  {
   "cell_type": "code",
   "execution_count": null,
   "id": "aeb16cbd-fb19-4ae4-958d-3437255b3d6d",
   "metadata": {},
   "outputs": [],
   "source": []
  },
  {
   "cell_type": "code",
   "execution_count": 333,
   "id": "14e34e84-4ac4-4ddc-8893-929828ec2a8f",
   "metadata": {},
   "outputs": [],
   "source": [
    "# Fake name generator\n",
    "from faker import Faker\n",
    "name = Faker().name()"
   ]
  },
  {
   "cell_type": "code",
   "execution_count": 335,
   "id": "70129be7-eb70-4595-89e2-8f0b654e8a5e",
   "metadata": {},
   "outputs": [
    {
     "name": "stdout",
     "output_type": "stream",
     "text": [
      "Terry Cabrera\n"
     ]
    }
   ],
   "source": [
    "name"
   ]
  },
  {
   "cell_type": "code",
   "execution_count": null,
   "id": "8d1d9b57-6c2b-4408-88a6-319b4a4c5b20",
   "metadata": {},
   "outputs": [],
   "source": []
  },
  {
   "cell_type": "code",
   "execution_count": null,
   "id": "c67365ca-b953-4189-bcd8-82f64f46ba62",
   "metadata": {},
   "outputs": [],
   "source": []
  },
  {
   "cell_type": "markdown",
   "id": "91fe4b50-c19e-47e1-979f-d758685b53a8",
   "metadata": {},
   "source": [
    "### Animal-Zoo example"
   ]
  },
  {
   "cell_type": "code",
   "execution_count": 319,
   "id": "beb4d298-9c89-4146-8953-f64fa8644698",
   "metadata": {},
   "outputs": [
    {
     "name": "stdout",
     "output_type": "stream",
     "text": [
      "SNAP!!!\n"
     ]
    }
   ],
   "source": [
    "class Animal:\n",
    "\n",
    "    def __init__(self, name, sound):\n",
    "        self.name = name\n",
    "        self.sound = sound\n",
    "\n",
    "    def sound_func(self):\n",
    "        print(f'{self.sound.upper()}!!')\n",
    "\n",
    "croc = Animal('crocodile', 'snap!')\n",
    "croc.sound_func()"
   ]
  },
  {
   "cell_type": "code",
   "execution_count": 272,
   "id": "8647fa98-03f6-4319-ace2-ea6ba76495c5",
   "metadata": {},
   "outputs": [],
   "source": [
    "class Zoo:\n",
    "\n",
    "    def __init__(self):\n",
    "        self.animals = []\n",
    "\n",
    "    def add(self, animal):\n",
    "        self.animals.append(animal)\n",
    "\n",
    "    def make_all_sounds(self):\n",
    "        for a in self.animals:\n",
    "            a.sound_func()\n",
    "\n",
    "z = Zoo()\n",
    "\n",
    "croc = Animal('crocodile', 'snap!')\n",
    "z.add(croc)\n",
    "z.add(Animal('elephant', 'toott'))\n",
    "z.add(Animal('lion', 'roar'))"
   ]
  },
  {
   "cell_type": "code",
   "execution_count": 332,
   "id": "fd0a353f-079e-47bd-92df-61b22c12b353",
   "metadata": {},
   "outputs": [
    {
     "name": "stdout",
     "output_type": "stream",
     "text": [
      "SNAP!!!\n",
      "TOOTT!!\n",
      "ROAR!!\n"
     ]
    }
   ],
   "source": [
    "z.make_all_sounds()"
   ]
  },
  {
   "cell_type": "code",
   "execution_count": null,
   "id": "7b8bbe2e-9186-4727-a142-86cd302c84ad",
   "metadata": {},
   "outputs": [],
   "source": []
  }
 ],
 "metadata": {
  "kernelspec": {
   "display_name": "Python 3",
   "language": "python",
   "name": "python3"
  },
  "language_info": {
   "codemirror_mode": {
    "name": "ipython",
    "version": 3
   },
   "file_extension": ".py",
   "mimetype": "text/x-python",
   "name": "python",
   "nbconvert_exporter": "python",
   "pygments_lexer": "ipython3",
   "version": "3.8.8"
  }
 },
 "nbformat": 4,
 "nbformat_minor": 5
}
